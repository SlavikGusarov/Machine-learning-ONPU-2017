{
 "cells": [
  {
   "cell_type": "markdown",
   "metadata": {},
   "source": [
    "# Практическая работа №6\n",
    "## Провести анализ набора данных Mass-Shootings-Dataset.csv"
   ]
  },
  {
   "cell_type": "code",
   "execution_count": 2,
   "metadata": {
    "collapsed": true
   },
   "outputs": [],
   "source": [
    "import graphlab"
   ]
  },
  {
   "cell_type": "markdown",
   "metadata": {},
   "source": [
    "### 1. Считать данные из набора. Создать таблицу data только с интересующими столбцами (Title, Summary)"
   ]
  },
  {
   "cell_type": "code",
   "execution_count": 48,
   "metadata": {
    "scrolled": false
   },
   "outputs": [
    {
     "data": {
      "text/html": [
       "<pre>Unable to parse line \"159,Marysville-Pilchuck High School shooting,\"Marysville, Washington\",10/24/2014,\"Jaylen Fryberg, 15, using a .40-caliber Berretta, shot five \"</pre>"
      ],
      "text/plain": [
       "Unable to parse line \"159,Marysville-Pilchuck High School shooting,\"Marysville, Washington\",10/24/2014,\"Jaylen Fryberg, 15, using a .40-caliber Berretta, shot five \""
      ]
     },
     "metadata": {},
     "output_type": "display_data"
    },
    {
     "data": {
      "text/html": [
       "<pre>Unable to parse line \"students at Marysville High School, including two of his cousins and three friends, killing all but one. Fryberg arranged to meet them for lunch in the school cafeteria by text. Fryberg was reportedly well-liked at the school and there was not believed to ...\"</pre>"
      ],
      "text/plain": [
       "Unable to parse line \"students at Marysville High School, including two of his cousins and three friends, killing all but one. Fryberg arranged to meet them for lunch in the school cafeteria by text. Fryberg was reportedly well-liked at the school and there was not believed to ...\""
      ]
     },
     "metadata": {},
     "output_type": "display_data"
    },
    {
     "data": {
      "text/html": [
       "<pre>Unable to parse line \"107,Parking lot near Boys and Girls Club,\"Rochester, New York\",8/19/2015,\"Around 11:20 p.m. Wednesday on Genesee Street, a gunman shot into a crowd that gathered outside the Rochester Boys and Girls Club after a basketball game, killing three people and wo...\"</pre>"
      ],
      "text/plain": [
       "Unable to parse line \"107,Parking lot near Boys and Girls Club,\"Rochester, New York\",8/19/2015,\"Around 11:20 p.m. Wednesday on Genesee Street, a gunman shot into a crowd that gathered outside the Rochester Boys and Girls Club after a basketball game, killing three people and wo...\""
      ]
     },
     "metadata": {},
     "output_type": "display_data"
    },
    {
     "data": {
      "text/html": [
       "<pre>Unable to parse line \"Drive-by, Gang involvement\",3,4,7,Unknown,Black American or African American,Male,43.1696837,-77.614337\"</pre>"
      ],
      "text/plain": [
       "Unable to parse line \"Drive-by, Gang involvement\",3,4,7,Unknown,Black American or African American,Male,43.1696837,-77.614337\""
      ]
     },
     "metadata": {},
     "output_type": "display_data"
    },
    {
     "data": {
      "text/html": [
       "<pre>Unable to parse line \"124,Annual motorcycle event in Newark,\"Newark, New Jersey\",5/10/2015,\"The shooting occurred during an annual event marking the opening of the motorcycle season. More than 2,000 people were in attendance when gunfire erupted at South 16th Street and 19th Av...\"</pre>"
      ],
      "text/plain": [
       "Unable to parse line \"124,Annual motorcycle event in Newark,\"Newark, New Jersey\",5/10/2015,\"The shooting occurred during an annual event marking the opening of the motorcycle season. More than 2,000 people were in attendance when gunfire erupted at South 16th Street and 19th Av...\""
      ]
     },
     "metadata": {},
     "output_type": "display_data"
    },
    {
     "data": {
      "text/html": [
       "<pre>Unable to parse line \"The shooting was a result of a long-running feud between two other against the shooter and the 16-year-old.\",1,3,4,Unknown,Black American or African American,Male,40.73169648,-74.18417699\"</pre>"
      ],
      "text/plain": [
       "Unable to parse line \"The shooting was a result of a long-running feud between two other against the shooter and the 16-year-old.\",1,3,4,Unknown,Black American or African American,Male,40.73169648,-74.18417699\""
      ]
     },
     "metadata": {},
     "output_type": "display_data"
    },
    {
     "data": {
      "text/html": [
       "<pre>6 lines failed to parse correctly</pre>"
      ],
      "text/plain": [
       "6 lines failed to parse correctly"
      ]
     },
     "metadata": {},
     "output_type": "display_data"
    },
    {
     "data": {
      "text/html": [
       "<pre>Finished parsing file D:\\Programming\\Anaconda\\Scripts\\ML ONPU\\Machine-learning-ONPU-2017\\Assignment 6\\Mass-Shootings-Dataset.csv</pre>"
      ],
      "text/plain": [
       "Finished parsing file D:\\Programming\\Anaconda\\Scripts\\ML ONPU\\Machine-learning-ONPU-2017\\Assignment 6\\Mass-Shootings-Dataset.csv"
      ]
     },
     "metadata": {},
     "output_type": "display_data"
    },
    {
     "data": {
      "text/html": [
       "<pre>Parsing completed. Parsed 100 lines in 0.022559 secs.</pre>"
      ],
      "text/plain": [
       "Parsing completed. Parsed 100 lines in 0.022559 secs."
      ]
     },
     "metadata": {},
     "output_type": "display_data"
    },
    {
     "name": "stdout",
     "output_type": "stream",
     "text": [
      "------------------------------------------------------\n",
      "Inferred types from first 100 line(s) of file as \n",
      "column_type_hints=[long,str,str,str,str,long,long,long,str,str,str,float,float]\n",
      "If parsing fails due to incorrect types, you can correct\n",
      "the inferred type list above and pass it to read_csv in\n",
      "the column_type_hints argument\n",
      "------------------------------------------------------\n"
     ]
    },
    {
     "data": {
      "text/html": [
       "<pre>Unable to parse line \"159,Marysville-Pilchuck High School shooting,\"Marysville, Washington\",10/24/2014,\"Jaylen Fryberg, 15, using a .40-caliber Berretta, shot five \"</pre>"
      ],
      "text/plain": [
       "Unable to parse line \"159,Marysville-Pilchuck High School shooting,\"Marysville, Washington\",10/24/2014,\"Jaylen Fryberg, 15, using a .40-caliber Berretta, shot five \""
      ]
     },
     "metadata": {},
     "output_type": "display_data"
    },
    {
     "data": {
      "text/html": [
       "<pre>Unable to parse line \"students at Marysville High School, including two of his cousins and three friends, killing all but one. Fryberg arranged to meet them for lunch in the school cafeteria by text. Fryberg was reportedly well-liked at the school and there was not believed to ...\"</pre>"
      ],
      "text/plain": [
       "Unable to parse line \"students at Marysville High School, including two of his cousins and three friends, killing all but one. Fryberg arranged to meet them for lunch in the school cafeteria by text. Fryberg was reportedly well-liked at the school and there was not believed to ...\""
      ]
     },
     "metadata": {},
     "output_type": "display_data"
    },
    {
     "data": {
      "text/html": [
       "<pre>Unable to parse line \"107,Parking lot near Boys and Girls Club,\"Rochester, New York\",8/19/2015,\"Around 11:20 p.m. Wednesday on Genesee Street, a gunman shot into a crowd that gathered outside the Rochester Boys and Girls Club after a basketball game, killing three people and wo...\"</pre>"
      ],
      "text/plain": [
       "Unable to parse line \"107,Parking lot near Boys and Girls Club,\"Rochester, New York\",8/19/2015,\"Around 11:20 p.m. Wednesday on Genesee Street, a gunman shot into a crowd that gathered outside the Rochester Boys and Girls Club after a basketball game, killing three people and wo...\""
      ]
     },
     "metadata": {},
     "output_type": "display_data"
    },
    {
     "data": {
      "text/html": [
       "<pre>Unable to parse line \"Drive-by, Gang involvement\",3,4,7,Unknown,Black American or African American,Male,43.1696837,-77.614337\"</pre>"
      ],
      "text/plain": [
       "Unable to parse line \"Drive-by, Gang involvement\",3,4,7,Unknown,Black American or African American,Male,43.1696837,-77.614337\""
      ]
     },
     "metadata": {},
     "output_type": "display_data"
    },
    {
     "data": {
      "text/html": [
       "<pre>Unable to parse line \"124,Annual motorcycle event in Newark,\"Newark, New Jersey\",5/10/2015,\"The shooting occurred during an annual event marking the opening of the motorcycle season. More than 2,000 people were in attendance when gunfire erupted at South 16th Street and 19th Av...\"</pre>"
      ],
      "text/plain": [
       "Unable to parse line \"124,Annual motorcycle event in Newark,\"Newark, New Jersey\",5/10/2015,\"The shooting occurred during an annual event marking the opening of the motorcycle season. More than 2,000 people were in attendance when gunfire erupted at South 16th Street and 19th Av...\""
      ]
     },
     "metadata": {},
     "output_type": "display_data"
    },
    {
     "data": {
      "text/html": [
       "<pre>Unable to parse line \"The shooting was a result of a long-running feud between two other against the shooter and the 16-year-old.\",1,3,4,Unknown,Black American or African American,Male,40.73169648,-74.18417699\"</pre>"
      ],
      "text/plain": [
       "Unable to parse line \"The shooting was a result of a long-running feud between two other against the shooter and the 16-year-old.\",1,3,4,Unknown,Black American or African American,Male,40.73169648,-74.18417699\""
      ]
     },
     "metadata": {},
     "output_type": "display_data"
    },
    {
     "data": {
      "text/html": [
       "<pre>6 lines failed to parse correctly</pre>"
      ],
      "text/plain": [
       "6 lines failed to parse correctly"
      ]
     },
     "metadata": {},
     "output_type": "display_data"
    },
    {
     "data": {
      "text/html": [
       "<pre>Finished parsing file D:\\Programming\\Anaconda\\Scripts\\ML ONPU\\Machine-learning-ONPU-2017\\Assignment 6\\Mass-Shootings-Dataset.csv</pre>"
      ],
      "text/plain": [
       "Finished parsing file D:\\Programming\\Anaconda\\Scripts\\ML ONPU\\Machine-learning-ONPU-2017\\Assignment 6\\Mass-Shootings-Dataset.csv"
      ]
     },
     "metadata": {},
     "output_type": "display_data"
    },
    {
     "data": {
      "text/html": [
       "<pre>Parsing completed. Parsed 395 lines in 0.029583 secs.</pre>"
      ],
      "text/plain": [
       "Parsing completed. Parsed 395 lines in 0.029583 secs."
      ]
     },
     "metadata": {},
     "output_type": "display_data"
    },
    {
     "data": {
      "text/html": [
       "<div style=\"max-height:1000px;max-width:1500px;overflow:auto;\"><table frame=\"box\" rules=\"cols\">\n",
       "    <tr>\n",
       "        <th style=\"padding-left: 1em; padding-right: 1em; text-align: center\">S#</th>\n",
       "        <th style=\"padding-left: 1em; padding-right: 1em; text-align: center\">Title</th>\n",
       "        <th style=\"padding-left: 1em; padding-right: 1em; text-align: center\">Location</th>\n",
       "        <th style=\"padding-left: 1em; padding-right: 1em; text-align: center\">Date</th>\n",
       "        <th style=\"padding-left: 1em; padding-right: 1em; text-align: center\">Summary</th>\n",
       "        <th style=\"padding-left: 1em; padding-right: 1em; text-align: center\">Fatalities</th>\n",
       "    </tr>\n",
       "    <tr>\n",
       "        <td style=\"padding-left: 1em; padding-right: 1em; text-align: center; vertical-align: top\">1</td>\n",
       "        <td style=\"padding-left: 1em; padding-right: 1em; text-align: center; vertical-align: top\">Las Vegas Strip mass<br>shooting ...</td>\n",
       "        <td style=\"padding-left: 1em; padding-right: 1em; text-align: center; vertical-align: top\">Las Vegas, NV</td>\n",
       "        <td style=\"padding-left: 1em; padding-right: 1em; text-align: center; vertical-align: top\">10/1/2017</td>\n",
       "        <td style=\"padding-left: 1em; padding-right: 1em; text-align: center; vertical-align: top\"></td>\n",
       "        <td style=\"padding-left: 1em; padding-right: 1em; text-align: center; vertical-align: top\">58</td>\n",
       "    </tr>\n",
       "    <tr>\n",
       "        <td style=\"padding-left: 1em; padding-right: 1em; text-align: center; vertical-align: top\">2</td>\n",
       "        <td style=\"padding-left: 1em; padding-right: 1em; text-align: center; vertical-align: top\">San Francisco UPS<br>shooting ...</td>\n",
       "        <td style=\"padding-left: 1em; padding-right: 1em; text-align: center; vertical-align: top\">San Francisco, CA</td>\n",
       "        <td style=\"padding-left: 1em; padding-right: 1em; text-align: center; vertical-align: top\">6/14/2017</td>\n",
       "        <td style=\"padding-left: 1em; padding-right: 1em; text-align: center; vertical-align: top\">Jimmy Lam, 38, fatally<br>shot three coworkers and ...</td>\n",
       "        <td style=\"padding-left: 1em; padding-right: 1em; text-align: center; vertical-align: top\">3</td>\n",
       "    </tr>\n",
       "    <tr>\n",
       "        <td style=\"padding-left: 1em; padding-right: 1em; text-align: center; vertical-align: top\">3</td>\n",
       "        <td style=\"padding-left: 1em; padding-right: 1em; text-align: center; vertical-align: top\">Pennsylvania supermarket<br>shooting ...</td>\n",
       "        <td style=\"padding-left: 1em; padding-right: 1em; text-align: center; vertical-align: top\">Tunkhannock, PA</td>\n",
       "        <td style=\"padding-left: 1em; padding-right: 1em; text-align: center; vertical-align: top\">6/7/2017</td>\n",
       "        <td style=\"padding-left: 1em; padding-right: 1em; text-align: center; vertical-align: top\">Randy Stair, a 24-year-<br>old worker at Weis ...</td>\n",
       "        <td style=\"padding-left: 1em; padding-right: 1em; text-align: center; vertical-align: top\">3</td>\n",
       "    </tr>\n",
       "    <tr>\n",
       "        <td style=\"padding-left: 1em; padding-right: 1em; text-align: center; vertical-align: top\">4</td>\n",
       "        <td style=\"padding-left: 1em; padding-right: 1em; text-align: center; vertical-align: top\">Florida awning<br>manufacturer shooting ...</td>\n",
       "        <td style=\"padding-left: 1em; padding-right: 1em; text-align: center; vertical-align: top\">Orlando, Florida</td>\n",
       "        <td style=\"padding-left: 1em; padding-right: 1em; text-align: center; vertical-align: top\">6/5/2017</td>\n",
       "        <td style=\"padding-left: 1em; padding-right: 1em; text-align: center; vertical-align: top\">John Robert Neumann, Jr.,<br>45, a former employee of ...</td>\n",
       "        <td style=\"padding-left: 1em; padding-right: 1em; text-align: center; vertical-align: top\">5</td>\n",
       "    </tr>\n",
       "    <tr>\n",
       "        <td style=\"padding-left: 1em; padding-right: 1em; text-align: center; vertical-align: top\">5</td>\n",
       "        <td style=\"padding-left: 1em; padding-right: 1em; text-align: center; vertical-align: top\">Rural Ohio nursing home<br>shooting ...</td>\n",
       "        <td style=\"padding-left: 1em; padding-right: 1em; text-align: center; vertical-align: top\">Kirkersville, Ohio</td>\n",
       "        <td style=\"padding-left: 1em; padding-right: 1em; text-align: center; vertical-align: top\">5/12/2017</td>\n",
       "        <td style=\"padding-left: 1em; padding-right: 1em; text-align: center; vertical-align: top\">Thomas Hartless, 43, shot<br>and killed a former ...</td>\n",
       "        <td style=\"padding-left: 1em; padding-right: 1em; text-align: center; vertical-align: top\">3</td>\n",
       "    </tr>\n",
       "    <tr>\n",
       "        <td style=\"padding-left: 1em; padding-right: 1em; text-align: center; vertical-align: top\">6</td>\n",
       "        <td style=\"padding-left: 1em; padding-right: 1em; text-align: center; vertical-align: top\">Fresno downtown shooting</td>\n",
       "        <td style=\"padding-left: 1em; padding-right: 1em; text-align: center; vertical-align: top\">Fresno, California</td>\n",
       "        <td style=\"padding-left: 1em; padding-right: 1em; text-align: center; vertical-align: top\">4/18/2017</td>\n",
       "        <td style=\"padding-left: 1em; padding-right: 1em; text-align: center; vertical-align: top\">Kori Ali Muhammad, 39,<br>opened fire along a ...</td>\n",
       "        <td style=\"padding-left: 1em; padding-right: 1em; text-align: center; vertical-align: top\">3</td>\n",
       "    </tr>\n",
       "    <tr>\n",
       "        <td style=\"padding-left: 1em; padding-right: 1em; text-align: center; vertical-align: top\">7</td>\n",
       "        <td style=\"padding-left: 1em; padding-right: 1em; text-align: center; vertical-align: top\">Fort Lauderdale airport<br>shooting ...</td>\n",
       "        <td style=\"padding-left: 1em; padding-right: 1em; text-align: center; vertical-align: top\">Fort Lauderdale, Florida</td>\n",
       "        <td style=\"padding-left: 1em; padding-right: 1em; text-align: center; vertical-align: top\">1/6/2017</td>\n",
       "        <td style=\"padding-left: 1em; padding-right: 1em; text-align: center; vertical-align: top\">Esteban Santiago, 26,<br>flew from Alaska to Fort ...</td>\n",
       "        <td style=\"padding-left: 1em; padding-right: 1em; text-align: center; vertical-align: top\">5</td>\n",
       "    </tr>\n",
       "    <tr>\n",
       "        <td style=\"padding-left: 1em; padding-right: 1em; text-align: center; vertical-align: top\">8</td>\n",
       "        <td style=\"padding-left: 1em; padding-right: 1em; text-align: center; vertical-align: top\">Cascade Mall shooting</td>\n",
       "        <td style=\"padding-left: 1em; padding-right: 1em; text-align: center; vertical-align: top\">Burlington, WA</td>\n",
       "        <td style=\"padding-left: 1em; padding-right: 1em; text-align: center; vertical-align: top\">9/23/2016</td>\n",
       "        <td style=\"padding-left: 1em; padding-right: 1em; text-align: center; vertical-align: top\">Arcan Cetin, 20, killed a<br>teen girl and three w ...</td>\n",
       "        <td style=\"padding-left: 1em; padding-right: 1em; text-align: center; vertical-align: top\">5</td>\n",
       "    </tr>\n",
       "    <tr>\n",
       "        <td style=\"padding-left: 1em; padding-right: 1em; text-align: center; vertical-align: top\">9</td>\n",
       "        <td style=\"padding-left: 1em; padding-right: 1em; text-align: center; vertical-align: top\">Baton Rouge police<br>shooting ...</td>\n",
       "        <td style=\"padding-left: 1em; padding-right: 1em; text-align: center; vertical-align: top\">Baton Rouge, LA</td>\n",
       "        <td style=\"padding-left: 1em; padding-right: 1em; text-align: center; vertical-align: top\">7/17/2016</td>\n",
       "        <td style=\"padding-left: 1em; padding-right: 1em; text-align: center; vertical-align: top\">Gavin Long, a former<br>Marine who served in ...</td>\n",
       "        <td style=\"padding-left: 1em; padding-right: 1em; text-align: center; vertical-align: top\">3</td>\n",
       "    </tr>\n",
       "    <tr>\n",
       "        <td style=\"padding-left: 1em; padding-right: 1em; text-align: center; vertical-align: top\">10</td>\n",
       "        <td style=\"padding-left: 1em; padding-right: 1em; text-align: center; vertical-align: top\">Dallas police shooting</td>\n",
       "        <td style=\"padding-left: 1em; padding-right: 1em; text-align: center; vertical-align: top\">Dallas, Texas</td>\n",
       "        <td style=\"padding-left: 1em; padding-right: 1em; text-align: center; vertical-align: top\">7/7/2016</td>\n",
       "        <td style=\"padding-left: 1em; padding-right: 1em; text-align: center; vertical-align: top\">Micah Xavier Johnson, a<br>25-year-old Army vete ...</td>\n",
       "        <td style=\"padding-left: 1em; padding-right: 1em; text-align: center; vertical-align: top\">5</td>\n",
       "    </tr>\n",
       "</table>\n",
       "<table frame=\"box\" rules=\"cols\">\n",
       "    <tr>\n",
       "        <th style=\"padding-left: 1em; padding-right: 1em; text-align: center\">Injured</th>\n",
       "        <th style=\"padding-left: 1em; padding-right: 1em; text-align: center\">Total victims</th>\n",
       "        <th style=\"padding-left: 1em; padding-right: 1em; text-align: center\">Mental Health Issues</th>\n",
       "        <th style=\"padding-left: 1em; padding-right: 1em; text-align: center\">Race</th>\n",
       "        <th style=\"padding-left: 1em; padding-right: 1em; text-align: center\">Gender</th>\n",
       "        <th style=\"padding-left: 1em; padding-right: 1em; text-align: center\">Latitude</th>\n",
       "        <th style=\"padding-left: 1em; padding-right: 1em; text-align: center\">Longitude</th>\n",
       "    </tr>\n",
       "    <tr>\n",
       "        <td style=\"padding-left: 1em; padding-right: 1em; text-align: center; vertical-align: top\">515</td>\n",
       "        <td style=\"padding-left: 1em; padding-right: 1em; text-align: center; vertical-align: top\">573</td>\n",
       "        <td style=\"padding-left: 1em; padding-right: 1em; text-align: center; vertical-align: top\">Unclear</td>\n",
       "        <td style=\"padding-left: 1em; padding-right: 1em; text-align: center; vertical-align: top\"></td>\n",
       "        <td style=\"padding-left: 1em; padding-right: 1em; text-align: center; vertical-align: top\"></td>\n",
       "        <td style=\"padding-left: 1em; padding-right: 1em; text-align: center; vertical-align: top\">None</td>\n",
       "        <td style=\"padding-left: 1em; padding-right: 1em; text-align: center; vertical-align: top\">None</td>\n",
       "    </tr>\n",
       "    <tr>\n",
       "        <td style=\"padding-left: 1em; padding-right: 1em; text-align: center; vertical-align: top\">2</td>\n",
       "        <td style=\"padding-left: 1em; padding-right: 1em; text-align: center; vertical-align: top\">5</td>\n",
       "        <td style=\"padding-left: 1em; padding-right: 1em; text-align: center; vertical-align: top\">Yes</td>\n",
       "        <td style=\"padding-left: 1em; padding-right: 1em; text-align: center; vertical-align: top\">Asian</td>\n",
       "        <td style=\"padding-left: 1em; padding-right: 1em; text-align: center; vertical-align: top\">M</td>\n",
       "        <td style=\"padding-left: 1em; padding-right: 1em; text-align: center; vertical-align: top\">None</td>\n",
       "        <td style=\"padding-left: 1em; padding-right: 1em; text-align: center; vertical-align: top\">None</td>\n",
       "    </tr>\n",
       "    <tr>\n",
       "        <td style=\"padding-left: 1em; padding-right: 1em; text-align: center; vertical-align: top\">0</td>\n",
       "        <td style=\"padding-left: 1em; padding-right: 1em; text-align: center; vertical-align: top\">3</td>\n",
       "        <td style=\"padding-left: 1em; padding-right: 1em; text-align: center; vertical-align: top\">Unclear</td>\n",
       "        <td style=\"padding-left: 1em; padding-right: 1em; text-align: center; vertical-align: top\">White</td>\n",
       "        <td style=\"padding-left: 1em; padding-right: 1em; text-align: center; vertical-align: top\">M</td>\n",
       "        <td style=\"padding-left: 1em; padding-right: 1em; text-align: center; vertical-align: top\">None</td>\n",
       "        <td style=\"padding-left: 1em; padding-right: 1em; text-align: center; vertical-align: top\">None</td>\n",
       "    </tr>\n",
       "    <tr>\n",
       "        <td style=\"padding-left: 1em; padding-right: 1em; text-align: center; vertical-align: top\">0</td>\n",
       "        <td style=\"padding-left: 1em; padding-right: 1em; text-align: center; vertical-align: top\">5</td>\n",
       "        <td style=\"padding-left: 1em; padding-right: 1em; text-align: center; vertical-align: top\">Unclear</td>\n",
       "        <td style=\"padding-left: 1em; padding-right: 1em; text-align: center; vertical-align: top\"></td>\n",
       "        <td style=\"padding-left: 1em; padding-right: 1em; text-align: center; vertical-align: top\">M</td>\n",
       "        <td style=\"padding-left: 1em; padding-right: 1em; text-align: center; vertical-align: top\">None</td>\n",
       "        <td style=\"padding-left: 1em; padding-right: 1em; text-align: center; vertical-align: top\">None</td>\n",
       "    </tr>\n",
       "    <tr>\n",
       "        <td style=\"padding-left: 1em; padding-right: 1em; text-align: center; vertical-align: top\">0</td>\n",
       "        <td style=\"padding-left: 1em; padding-right: 1em; text-align: center; vertical-align: top\">3</td>\n",
       "        <td style=\"padding-left: 1em; padding-right: 1em; text-align: center; vertical-align: top\">Yes</td>\n",
       "        <td style=\"padding-left: 1em; padding-right: 1em; text-align: center; vertical-align: top\">White</td>\n",
       "        <td style=\"padding-left: 1em; padding-right: 1em; text-align: center; vertical-align: top\">M</td>\n",
       "        <td style=\"padding-left: 1em; padding-right: 1em; text-align: center; vertical-align: top\">None</td>\n",
       "        <td style=\"padding-left: 1em; padding-right: 1em; text-align: center; vertical-align: top\">None</td>\n",
       "    </tr>\n",
       "    <tr>\n",
       "        <td style=\"padding-left: 1em; padding-right: 1em; text-align: center; vertical-align: top\">0</td>\n",
       "        <td style=\"padding-left: 1em; padding-right: 1em; text-align: center; vertical-align: top\">3</td>\n",
       "        <td style=\"padding-left: 1em; padding-right: 1em; text-align: center; vertical-align: top\">Unclear</td>\n",
       "        <td style=\"padding-left: 1em; padding-right: 1em; text-align: center; vertical-align: top\">Black</td>\n",
       "        <td style=\"padding-left: 1em; padding-right: 1em; text-align: center; vertical-align: top\">M</td>\n",
       "        <td style=\"padding-left: 1em; padding-right: 1em; text-align: center; vertical-align: top\">None</td>\n",
       "        <td style=\"padding-left: 1em; padding-right: 1em; text-align: center; vertical-align: top\">None</td>\n",
       "    </tr>\n",
       "    <tr>\n",
       "        <td style=\"padding-left: 1em; padding-right: 1em; text-align: center; vertical-align: top\">6</td>\n",
       "        <td style=\"padding-left: 1em; padding-right: 1em; text-align: center; vertical-align: top\">11</td>\n",
       "        <td style=\"padding-left: 1em; padding-right: 1em; text-align: center; vertical-align: top\">Yes</td>\n",
       "        <td style=\"padding-left: 1em; padding-right: 1em; text-align: center; vertical-align: top\">Latino</td>\n",
       "        <td style=\"padding-left: 1em; padding-right: 1em; text-align: center; vertical-align: top\">M</td>\n",
       "        <td style=\"padding-left: 1em; padding-right: 1em; text-align: center; vertical-align: top\">None</td>\n",
       "        <td style=\"padding-left: 1em; padding-right: 1em; text-align: center; vertical-align: top\">None</td>\n",
       "    </tr>\n",
       "    <tr>\n",
       "        <td style=\"padding-left: 1em; padding-right: 1em; text-align: center; vertical-align: top\">0</td>\n",
       "        <td style=\"padding-left: 1em; padding-right: 1em; text-align: center; vertical-align: top\">5</td>\n",
       "        <td style=\"padding-left: 1em; padding-right: 1em; text-align: center; vertical-align: top\">Yes</td>\n",
       "        <td style=\"padding-left: 1em; padding-right: 1em; text-align: center; vertical-align: top\"></td>\n",
       "        <td style=\"padding-left: 1em; padding-right: 1em; text-align: center; vertical-align: top\">M</td>\n",
       "        <td style=\"padding-left: 1em; padding-right: 1em; text-align: center; vertical-align: top\">None</td>\n",
       "        <td style=\"padding-left: 1em; padding-right: 1em; text-align: center; vertical-align: top\">None</td>\n",
       "    </tr>\n",
       "    <tr>\n",
       "        <td style=\"padding-left: 1em; padding-right: 1em; text-align: center; vertical-align: top\">3</td>\n",
       "        <td style=\"padding-left: 1em; padding-right: 1em; text-align: center; vertical-align: top\">6</td>\n",
       "        <td style=\"padding-left: 1em; padding-right: 1em; text-align: center; vertical-align: top\">Yes</td>\n",
       "        <td style=\"padding-left: 1em; padding-right: 1em; text-align: center; vertical-align: top\">Black</td>\n",
       "        <td style=\"padding-left: 1em; padding-right: 1em; text-align: center; vertical-align: top\">M</td>\n",
       "        <td style=\"padding-left: 1em; padding-right: 1em; text-align: center; vertical-align: top\">None</td>\n",
       "        <td style=\"padding-left: 1em; padding-right: 1em; text-align: center; vertical-align: top\">None</td>\n",
       "    </tr>\n",
       "    <tr>\n",
       "        <td style=\"padding-left: 1em; padding-right: 1em; text-align: center; vertical-align: top\">11</td>\n",
       "        <td style=\"padding-left: 1em; padding-right: 1em; text-align: center; vertical-align: top\">16</td>\n",
       "        <td style=\"padding-left: 1em; padding-right: 1em; text-align: center; vertical-align: top\">Unclear</td>\n",
       "        <td style=\"padding-left: 1em; padding-right: 1em; text-align: center; vertical-align: top\">Black</td>\n",
       "        <td style=\"padding-left: 1em; padding-right: 1em; text-align: center; vertical-align: top\">M</td>\n",
       "        <td style=\"padding-left: 1em; padding-right: 1em; text-align: center; vertical-align: top\">None</td>\n",
       "        <td style=\"padding-left: 1em; padding-right: 1em; text-align: center; vertical-align: top\">None</td>\n",
       "    </tr>\n",
       "</table>\n",
       "[395 rows x 13 columns]<br/>Note: Only the head of the SFrame is printed.<br/>You can use print_rows(num_rows=m, num_columns=n) to print more rows and columns.\n",
       "</div>"
      ],
      "text/plain": [
       "Columns:\n",
       "\tS#\tint\n",
       "\tTitle\tstr\n",
       "\tLocation\tstr\n",
       "\tDate\tstr\n",
       "\tSummary\tstr\n",
       "\tFatalities\tint\n",
       "\tInjured\tint\n",
       "\tTotal victims\tint\n",
       "\tMental Health Issues\tstr\n",
       "\tRace\tstr\n",
       "\tGender\tstr\n",
       "\tLatitude\tfloat\n",
       "\tLongitude\tfloat\n",
       "\n",
       "Rows: 395\n",
       "\n",
       "Data:\n",
       "+----+-------------------------------+--------------------------+-----------+\n",
       "| S# |             Title             |         Location         |    Date   |\n",
       "+----+-------------------------------+--------------------------+-----------+\n",
       "| 1  | Las Vegas Strip mass shooting |      Las Vegas, NV       | 10/1/2017 |\n",
       "| 2  |   San Francisco UPS shooting  |    San Francisco, CA     | 6/14/2017 |\n",
       "| 3  | Pennsylvania supermarket s... |     Tunkhannock, PA      |  6/7/2017 |\n",
       "| 4  | Florida awning manufacture... |     Orlando, Florida     |  6/5/2017 |\n",
       "| 5  | Rural Ohio nursing home sh... |    Kirkersville, Ohio    | 5/12/2017 |\n",
       "| 6  |    Fresno downtown shooting   |    Fresno, California    | 4/18/2017 |\n",
       "| 7  | Fort Lauderdale airport sh... | Fort Lauderdale, Florida |  1/6/2017 |\n",
       "| 8  |     Cascade Mall shooting     |      Burlington, WA      | 9/23/2016 |\n",
       "| 9  |  Baton Rouge police shooting  |     Baton Rouge, LA      | 7/17/2016 |\n",
       "| 10 |     Dallas police shooting    |      Dallas, Texas       |  7/7/2016 |\n",
       "+----+-------------------------------+--------------------------+-----------+\n",
       "+-------------------------------+------------+---------+---------------+----------------------+\n",
       "|            Summary            | Fatalities | Injured | Total victims | Mental Health Issues |\n",
       "+-------------------------------+------------+---------+---------------+----------------------+\n",
       "|                               |     58     |   515   |      573      |       Unclear        |\n",
       "| Jimmy Lam, 38, fatally sho... |     3      |    2    |       5       |         Yes          |\n",
       "| Randy Stair, a 24-year-old... |     3      |    0    |       3       |       Unclear        |\n",
       "| John Robert Neumann, Jr., ... |     5      |    0    |       5       |       Unclear        |\n",
       "| Thomas Hartless, 43, shot ... |     3      |    0    |       3       |         Yes          |\n",
       "| Kori Ali Muhammad, 39, ope... |     3      |    0    |       3       |       Unclear        |\n",
       "| Esteban Santiago, 26, flew... |     5      |    6    |       11      |         Yes          |\n",
       "| Arcan Cetin, 20, killed a ... |     5      |    0    |       5       |         Yes          |\n",
       "| Gavin Long, a former Marin... |     3      |    3    |       6       |         Yes          |\n",
       "| Micah Xavier Johnson, a 25... |     5      |    11   |       16      |       Unclear        |\n",
       "+-------------------------------+------------+---------+---------------+----------------------+\n",
       "+--------+--------+----------+-----------+\n",
       "|  Race  | Gender | Latitude | Longitude |\n",
       "+--------+--------+----------+-----------+\n",
       "|        |        |   None   |    None   |\n",
       "| Asian  |   M    |   None   |    None   |\n",
       "| White  |   M    |   None   |    None   |\n",
       "|        |   M    |   None   |    None   |\n",
       "| White  |   M    |   None   |    None   |\n",
       "| Black  |   M    |   None   |    None   |\n",
       "| Latino |   M    |   None   |    None   |\n",
       "|        |   M    |   None   |    None   |\n",
       "| Black  |   M    |   None   |    None   |\n",
       "| Black  |   M    |   None   |    None   |\n",
       "+--------+--------+----------+-----------+\n",
       "[395 rows x 13 columns]\n",
       "Note: Only the head of the SFrame is printed.\n",
       "You can use print_rows(num_rows=m, num_columns=n) to print more rows and columns."
      ]
     },
     "execution_count": 48,
     "metadata": {},
     "output_type": "execute_result"
    }
   ],
   "source": [
    "table = graphlab.SFrame(\"Mass-Shootings-Dataset.csv\")\n",
    "table"
   ]
  },
  {
   "cell_type": "code",
   "execution_count": 4,
   "metadata": {},
   "outputs": [
    {
     "data": {
      "text/html": [
       "<div style=\"max-height:1000px;max-width:1500px;overflow:auto;\"><table frame=\"box\" rules=\"cols\">\n",
       "    <tr>\n",
       "        <th style=\"padding-left: 1em; padding-right: 1em; text-align: center\">Title</th>\n",
       "        <th style=\"padding-left: 1em; padding-right: 1em; text-align: center\">Summary</th>\n",
       "    </tr>\n",
       "    <tr>\n",
       "        <td style=\"padding-left: 1em; padding-right: 1em; text-align: center; vertical-align: top\">Las Vegas Strip mass<br>shooting ...</td>\n",
       "        <td style=\"padding-left: 1em; padding-right: 1em; text-align: center; vertical-align: top\"></td>\n",
       "    </tr>\n",
       "    <tr>\n",
       "        <td style=\"padding-left: 1em; padding-right: 1em; text-align: center; vertical-align: top\">San Francisco UPS<br>shooting ...</td>\n",
       "        <td style=\"padding-left: 1em; padding-right: 1em; text-align: center; vertical-align: top\">Jimmy Lam, 38, fatally<br>shot three coworkers and ...</td>\n",
       "    </tr>\n",
       "    <tr>\n",
       "        <td style=\"padding-left: 1em; padding-right: 1em; text-align: center; vertical-align: top\">Pennsylvania supermarket<br>shooting ...</td>\n",
       "        <td style=\"padding-left: 1em; padding-right: 1em; text-align: center; vertical-align: top\">Randy Stair, a 24-year-<br>old worker at Weis ...</td>\n",
       "    </tr>\n",
       "    <tr>\n",
       "        <td style=\"padding-left: 1em; padding-right: 1em; text-align: center; vertical-align: top\">Florida awning<br>manufacturer shooting ...</td>\n",
       "        <td style=\"padding-left: 1em; padding-right: 1em; text-align: center; vertical-align: top\">John Robert Neumann, Jr.,<br>45, a former employee of ...</td>\n",
       "    </tr>\n",
       "    <tr>\n",
       "        <td style=\"padding-left: 1em; padding-right: 1em; text-align: center; vertical-align: top\">Rural Ohio nursing home<br>shooting ...</td>\n",
       "        <td style=\"padding-left: 1em; padding-right: 1em; text-align: center; vertical-align: top\">Thomas Hartless, 43, shot<br>and killed a former ...</td>\n",
       "    </tr>\n",
       "    <tr>\n",
       "        <td style=\"padding-left: 1em; padding-right: 1em; text-align: center; vertical-align: top\">Fresno downtown shooting</td>\n",
       "        <td style=\"padding-left: 1em; padding-right: 1em; text-align: center; vertical-align: top\">Kori Ali Muhammad, 39,<br>opened fire along a ...</td>\n",
       "    </tr>\n",
       "    <tr>\n",
       "        <td style=\"padding-left: 1em; padding-right: 1em; text-align: center; vertical-align: top\">Fort Lauderdale airport<br>shooting ...</td>\n",
       "        <td style=\"padding-left: 1em; padding-right: 1em; text-align: center; vertical-align: top\">Esteban Santiago, 26,<br>flew from Alaska to Fort ...</td>\n",
       "    </tr>\n",
       "    <tr>\n",
       "        <td style=\"padding-left: 1em; padding-right: 1em; text-align: center; vertical-align: top\">Cascade Mall shooting</td>\n",
       "        <td style=\"padding-left: 1em; padding-right: 1em; text-align: center; vertical-align: top\">Arcan Cetin, 20, killed a<br>teen girl and three w ...</td>\n",
       "    </tr>\n",
       "    <tr>\n",
       "        <td style=\"padding-left: 1em; padding-right: 1em; text-align: center; vertical-align: top\">Baton Rouge police<br>shooting ...</td>\n",
       "        <td style=\"padding-left: 1em; padding-right: 1em; text-align: center; vertical-align: top\">Gavin Long, a former<br>Marine who served in ...</td>\n",
       "    </tr>\n",
       "    <tr>\n",
       "        <td style=\"padding-left: 1em; padding-right: 1em; text-align: center; vertical-align: top\">Dallas police shooting</td>\n",
       "        <td style=\"padding-left: 1em; padding-right: 1em; text-align: center; vertical-align: top\">Micah Xavier Johnson, a<br>25-year-old Army vete ...</td>\n",
       "    </tr>\n",
       "</table>\n",
       "[395 rows x 2 columns]<br/>Note: Only the head of the SFrame is printed.<br/>You can use print_rows(num_rows=m, num_columns=n) to print more rows and columns.\n",
       "</div>"
      ],
      "text/plain": [
       "Columns:\n",
       "\tTitle\tstr\n",
       "\tSummary\tstr\n",
       "\n",
       "Rows: 395\n",
       "\n",
       "Data:\n",
       "+-------------------------------+-------------------------------+\n",
       "|             Title             |            Summary            |\n",
       "+-------------------------------+-------------------------------+\n",
       "| Las Vegas Strip mass shooting |                               |\n",
       "|   San Francisco UPS shooting  | Jimmy Lam, 38, fatally sho... |\n",
       "| Pennsylvania supermarket s... | Randy Stair, a 24-year-old... |\n",
       "| Florida awning manufacture... | John Robert Neumann, Jr., ... |\n",
       "| Rural Ohio nursing home sh... | Thomas Hartless, 43, shot ... |\n",
       "|    Fresno downtown shooting   | Kori Ali Muhammad, 39, ope... |\n",
       "| Fort Lauderdale airport sh... | Esteban Santiago, 26, flew... |\n",
       "|     Cascade Mall shooting     | Arcan Cetin, 20, killed a ... |\n",
       "|  Baton Rouge police shooting  | Gavin Long, a former Marin... |\n",
       "|     Dallas police shooting    | Micah Xavier Johnson, a 25... |\n",
       "+-------------------------------+-------------------------------+\n",
       "[395 rows x 2 columns]\n",
       "Note: Only the head of the SFrame is printed.\n",
       "You can use print_rows(num_rows=m, num_columns=n) to print more rows and columns."
      ]
     },
     "execution_count": 4,
     "metadata": {},
     "output_type": "execute_result"
    }
   ],
   "source": [
    "data = graphlab.SFrame()\n",
    "data['Title'] = table['Title']\n",
    "data['Summary'] = table['Summary']\n",
    "data"
   ]
  },
  {
   "cell_type": "markdown",
   "metadata": {},
   "source": [
    "#### Так как первый отзыв считался с ошибкой, откинем его "
   ]
  },
  {
   "cell_type": "code",
   "execution_count": 5,
   "metadata": {},
   "outputs": [
    {
     "data": {
      "text/html": [
       "<div style=\"max-height:1000px;max-width:1500px;overflow:auto;\"><table frame=\"box\" rules=\"cols\">\n",
       "    <tr>\n",
       "        <th style=\"padding-left: 1em; padding-right: 1em; text-align: center\">Title</th>\n",
       "        <th style=\"padding-left: 1em; padding-right: 1em; text-align: center\">Summary</th>\n",
       "    </tr>\n",
       "    <tr>\n",
       "        <td style=\"padding-left: 1em; padding-right: 1em; text-align: center; vertical-align: top\">San Francisco UPS<br>shooting ...</td>\n",
       "        <td style=\"padding-left: 1em; padding-right: 1em; text-align: center; vertical-align: top\">Jimmy Lam, 38, fatally<br>shot three coworkers and ...</td>\n",
       "    </tr>\n",
       "    <tr>\n",
       "        <td style=\"padding-left: 1em; padding-right: 1em; text-align: center; vertical-align: top\">Pennsylvania supermarket<br>shooting ...</td>\n",
       "        <td style=\"padding-left: 1em; padding-right: 1em; text-align: center; vertical-align: top\">Randy Stair, a 24-year-<br>old worker at Weis ...</td>\n",
       "    </tr>\n",
       "    <tr>\n",
       "        <td style=\"padding-left: 1em; padding-right: 1em; text-align: center; vertical-align: top\">Florida awning<br>manufacturer shooting ...</td>\n",
       "        <td style=\"padding-left: 1em; padding-right: 1em; text-align: center; vertical-align: top\">John Robert Neumann, Jr.,<br>45, a former employee of ...</td>\n",
       "    </tr>\n",
       "    <tr>\n",
       "        <td style=\"padding-left: 1em; padding-right: 1em; text-align: center; vertical-align: top\">Rural Ohio nursing home<br>shooting ...</td>\n",
       "        <td style=\"padding-left: 1em; padding-right: 1em; text-align: center; vertical-align: top\">Thomas Hartless, 43, shot<br>and killed a former ...</td>\n",
       "    </tr>\n",
       "    <tr>\n",
       "        <td style=\"padding-left: 1em; padding-right: 1em; text-align: center; vertical-align: top\">Fresno downtown shooting</td>\n",
       "        <td style=\"padding-left: 1em; padding-right: 1em; text-align: center; vertical-align: top\">Kori Ali Muhammad, 39,<br>opened fire along a ...</td>\n",
       "    </tr>\n",
       "    <tr>\n",
       "        <td style=\"padding-left: 1em; padding-right: 1em; text-align: center; vertical-align: top\">Fort Lauderdale airport<br>shooting ...</td>\n",
       "        <td style=\"padding-left: 1em; padding-right: 1em; text-align: center; vertical-align: top\">Esteban Santiago, 26,<br>flew from Alaska to Fort ...</td>\n",
       "    </tr>\n",
       "    <tr>\n",
       "        <td style=\"padding-left: 1em; padding-right: 1em; text-align: center; vertical-align: top\">Cascade Mall shooting</td>\n",
       "        <td style=\"padding-left: 1em; padding-right: 1em; text-align: center; vertical-align: top\">Arcan Cetin, 20, killed a<br>teen girl and three w ...</td>\n",
       "    </tr>\n",
       "    <tr>\n",
       "        <td style=\"padding-left: 1em; padding-right: 1em; text-align: center; vertical-align: top\">Baton Rouge police<br>shooting ...</td>\n",
       "        <td style=\"padding-left: 1em; padding-right: 1em; text-align: center; vertical-align: top\">Gavin Long, a former<br>Marine who served in ...</td>\n",
       "    </tr>\n",
       "    <tr>\n",
       "        <td style=\"padding-left: 1em; padding-right: 1em; text-align: center; vertical-align: top\">Dallas police shooting</td>\n",
       "        <td style=\"padding-left: 1em; padding-right: 1em; text-align: center; vertical-align: top\">Micah Xavier Johnson, a<br>25-year-old Army vete ...</td>\n",
       "    </tr>\n",
       "    <tr>\n",
       "        <td style=\"padding-left: 1em; padding-right: 1em; text-align: center; vertical-align: top\">Orlando nightclub<br>massacre ...</td>\n",
       "        <td style=\"padding-left: 1em; padding-right: 1em; text-align: center; vertical-align: top\">Omar Mateen, 29, attacked<br>the Pulse nighclub in ...</td>\n",
       "    </tr>\n",
       "</table>\n",
       "[? rows x 2 columns]<br/>Note: Only the head of the SFrame is printed. This SFrame is lazily evaluated.<br/>You can use sf.materialize() to force materialization.\n",
       "</div>"
      ],
      "text/plain": [
       "Columns:\n",
       "\tTitle\tstr\n",
       "\tSummary\tstr\n",
       "\n",
       "Rows: Unknown\n",
       "\n",
       "Data:\n",
       "+-------------------------------+-------------------------------+\n",
       "|             Title             |            Summary            |\n",
       "+-------------------------------+-------------------------------+\n",
       "|   San Francisco UPS shooting  | Jimmy Lam, 38, fatally sho... |\n",
       "| Pennsylvania supermarket s... | Randy Stair, a 24-year-old... |\n",
       "| Florida awning manufacture... | John Robert Neumann, Jr., ... |\n",
       "| Rural Ohio nursing home sh... | Thomas Hartless, 43, shot ... |\n",
       "|    Fresno downtown shooting   | Kori Ali Muhammad, 39, ope... |\n",
       "| Fort Lauderdale airport sh... | Esteban Santiago, 26, flew... |\n",
       "|     Cascade Mall shooting     | Arcan Cetin, 20, killed a ... |\n",
       "|  Baton Rouge police shooting  | Gavin Long, a former Marin... |\n",
       "|     Dallas police shooting    | Micah Xavier Johnson, a 25... |\n",
       "|   Orlando nightclub massacre  | Omar Mateen, 29, attacked ... |\n",
       "+-------------------------------+-------------------------------+\n",
       "[? rows x 2 columns]\n",
       "Note: Only the head of the SFrame is printed. This SFrame is lazily evaluated.\n",
       "You can use sf.materialize() to force materialization."
      ]
     },
     "execution_count": 5,
     "metadata": {},
     "output_type": "execute_result"
    }
   ],
   "source": [
    "data = data[data['Summary'] !=  '']\n",
    "data"
   ]
  },
  {
   "cell_type": "markdown",
   "metadata": {},
   "source": [
    "### 2. Подсчитать word_count столбца Summary для всех записей таблицы data и записать данные в новый столбец этой таблицы word_count."
   ]
  },
  {
   "cell_type": "code",
   "execution_count": 6,
   "metadata": {},
   "outputs": [
    {
     "data": {
      "text/html": [
       "<div style=\"max-height:1000px;max-width:1500px;overflow:auto;\"><table frame=\"box\" rules=\"cols\">\n",
       "    <tr>\n",
       "        <th style=\"padding-left: 1em; padding-right: 1em; text-align: center\">Title</th>\n",
       "        <th style=\"padding-left: 1em; padding-right: 1em; text-align: center\">Summary</th>\n",
       "        <th style=\"padding-left: 1em; padding-right: 1em; text-align: center\">word_count</th>\n",
       "    </tr>\n",
       "    <tr>\n",
       "        <td style=\"padding-left: 1em; padding-right: 1em; text-align: center; vertical-align: top\">San Francisco UPS<br>shooting ...</td>\n",
       "        <td style=\"padding-left: 1em; padding-right: 1em; text-align: center; vertical-align: top\">Jimmy Lam, 38, fatally<br>shot three coworkers and ...</td>\n",
       "        <td style=\"padding-left: 1em; padding-right: 1em; text-align: center; vertical-align: top\">{'and': 1L, 'jimmy': 1L,<br>'shot': 1L, 'san': 1L, ...</td>\n",
       "    </tr>\n",
       "    <tr>\n",
       "        <td style=\"padding-left: 1em; padding-right: 1em; text-align: center; vertical-align: top\">Pennsylvania supermarket<br>shooting ...</td>\n",
       "        <td style=\"padding-left: 1em; padding-right: 1em; text-align: center; vertical-align: top\">Randy Stair, a 24-year-<br>old worker at Weis ...</td>\n",
       "        <td style=\"padding-left: 1em; padding-right: 1em; text-align: center; vertical-align: top\">{'and': 1L, 'his': 1L,<br>'stair,': 1L, 'shot': ...</td>\n",
       "    </tr>\n",
       "    <tr>\n",
       "        <td style=\"padding-left: 1em; padding-right: 1em; text-align: center; vertical-align: top\">Florida awning<br>manufacturer shooting ...</td>\n",
       "        <td style=\"padding-left: 1em; padding-right: 1em; text-align: center; vertical-align: top\">John Robert Neumann, Jr.,<br>45, a former employee of ...</td>\n",
       "        <td style=\"padding-left: 1em; padding-right: 1em; text-align: center; vertical-align: top\">{'and': 1L, 'one-year':<br>1L, 'company,': 1L, ...</td>\n",
       "    </tr>\n",
       "    <tr>\n",
       "        <td style=\"padding-left: 1em; padding-right: 1em; text-align: center; vertical-align: top\">Rural Ohio nursing home<br>shooting ...</td>\n",
       "        <td style=\"padding-left: 1em; padding-right: 1em; text-align: center; vertical-align: top\">Thomas Hartless, 43, shot<br>and killed a former ...</td>\n",
       "        <td style=\"padding-left: 1em; padding-right: 1em; text-align: center; vertical-align: top\">{'and': 3L, 'thomas': 1L,<br>'shot': 2L, 'nursing': ...</td>\n",
       "    </tr>\n",
       "    <tr>\n",
       "        <td style=\"padding-left: 1em; padding-right: 1em; text-align: center; vertical-align: top\">Fresno downtown shooting</td>\n",
       "        <td style=\"padding-left: 1em; padding-right: 1em; text-align: center; vertical-align: top\">Kori Ali Muhammad, 39,<br>opened fire along a ...</td>\n",
       "        <td style=\"padding-left: 1em; padding-right: 1em; text-align: center; vertical-align: top\">{'and': 1L, 'his': 1L,<br>'muhammad,': 2L, 'lin ...</td>\n",
       "    </tr>\n",
       "    <tr>\n",
       "        <td style=\"padding-left: 1em; padding-right: 1em; text-align: center; vertical-align: top\">Fort Lauderdale airport<br>shooting ...</td>\n",
       "        <td style=\"padding-left: 1em; padding-right: 1em; text-align: center; vertical-align: top\">Esteban Santiago, 26,<br>flew from Alaska to Fort ...</td>\n",
       "        <td style=\"padding-left: 1em; padding-right: 1em; text-align: center; vertical-align: top\">{'and': 1L, 'claim': 1L,<br>'aprehended': 1L, 'in': ...</td>\n",
       "    </tr>\n",
       "    <tr>\n",
       "        <td style=\"padding-left: 1em; padding-right: 1em; text-align: center; vertical-align: top\">Cascade Mall shooting</td>\n",
       "        <td style=\"padding-left: 1em; padding-right: 1em; text-align: center; vertical-align: top\">Arcan Cetin, 20, killed a<br>teen girl and three w ...</td>\n",
       "        <td style=\"padding-left: 1em; padding-right: 1em; text-align: center; vertical-align: top\">{'and': 2L, 'residence.':<br>1L, 'while': 1L, 'by': ...</td>\n",
       "    </tr>\n",
       "    <tr>\n",
       "        <td style=\"padding-left: 1em; padding-right: 1em; text-align: center; vertical-align: top\">Baton Rouge police<br>shooting ...</td>\n",
       "        <td style=\"padding-left: 1em; padding-right: 1em; text-align: center; vertical-align: top\">Gavin Long, a former<br>Marine who served in ...</td>\n",
       "        <td style=\"padding-left: 1em; padding-right: 1em; text-align: center; vertical-align: top\">{'and': 1L, 'shoot-out':<br>1L, 'gavin': 1L, ...</td>\n",
       "    </tr>\n",
       "    <tr>\n",
       "        <td style=\"padding-left: 1em; padding-right: 1em; text-align: center; vertical-align: top\">Dallas police shooting</td>\n",
       "        <td style=\"padding-left: 1em; padding-right: 1em; text-align: center; vertical-align: top\">Micah Xavier Johnson, a<br>25-year-old Army vete ...</td>\n",
       "        <td style=\"padding-left: 1em; padding-right: 1em; text-align: center; vertical-align: top\">{'and': 1L, 'lives': 1L,<br>'officers': 1L, 'as': ...</td>\n",
       "    </tr>\n",
       "    <tr>\n",
       "        <td style=\"padding-left: 1em; padding-right: 1em; text-align: center; vertical-align: top\">Orlando nightclub<br>massacre ...</td>\n",
       "        <td style=\"padding-left: 1em; padding-right: 1em; text-align: center; vertical-align: top\">Omar Mateen, 29, attacked<br>the Pulse nighclub in ...</td>\n",
       "        <td style=\"padding-left: 1em; padding-right: 1em; text-align: center; vertical-align: top\">{'standoff.': 1L,<br>'pulse': 1L, 'in': 2L, ...</td>\n",
       "    </tr>\n",
       "</table>\n",
       "[394 rows x 3 columns]<br/>Note: Only the head of the SFrame is printed.<br/>You can use print_rows(num_rows=m, num_columns=n) to print more rows and columns.\n",
       "</div>"
      ],
      "text/plain": [
       "Columns:\n",
       "\tTitle\tstr\n",
       "\tSummary\tstr\n",
       "\tword_count\tdict\n",
       "\n",
       "Rows: 394\n",
       "\n",
       "Data:\n",
       "+-------------------------------+-------------------------------+\n",
       "|             Title             |            Summary            |\n",
       "+-------------------------------+-------------------------------+\n",
       "|   San Francisco UPS shooting  | Jimmy Lam, 38, fatally sho... |\n",
       "| Pennsylvania supermarket s... | Randy Stair, a 24-year-old... |\n",
       "| Florida awning manufacture... | John Robert Neumann, Jr., ... |\n",
       "| Rural Ohio nursing home sh... | Thomas Hartless, 43, shot ... |\n",
       "|    Fresno downtown shooting   | Kori Ali Muhammad, 39, ope... |\n",
       "| Fort Lauderdale airport sh... | Esteban Santiago, 26, flew... |\n",
       "|     Cascade Mall shooting     | Arcan Cetin, 20, killed a ... |\n",
       "|  Baton Rouge police shooting  | Gavin Long, a former Marin... |\n",
       "|     Dallas police shooting    | Micah Xavier Johnson, a 25... |\n",
       "|   Orlando nightclub massacre  | Omar Mateen, 29, attacked ... |\n",
       "+-------------------------------+-------------------------------+\n",
       "+-------------------------------+\n",
       "|           word_count          |\n",
       "+-------------------------------+\n",
       "| {'and': 1L, 'jimmy': 1L, '... |\n",
       "| {'and': 1L, 'his': 1L, 'st... |\n",
       "| {'and': 1L, 'one-year': 1L... |\n",
       "| {'and': 3L, 'thomas': 1L, ... |\n",
       "| {'and': 1L, 'his': 1L, 'mu... |\n",
       "| {'and': 1L, 'claim': 1L, '... |\n",
       "| {'and': 2L, 'residence.': ... |\n",
       "| {'and': 1L, 'shoot-out': 1... |\n",
       "| {'and': 1L, 'lives': 1L, '... |\n",
       "| {'standoff.': 1L, 'pulse':... |\n",
       "+-------------------------------+\n",
       "[394 rows x 3 columns]\n",
       "Note: Only the head of the SFrame is printed.\n",
       "You can use print_rows(num_rows=m, num_columns=n) to print more rows and columns."
      ]
     },
     "execution_count": 6,
     "metadata": {},
     "output_type": "execute_result"
    }
   ],
   "source": [
    "data['word_count'] = graphlab.text_analytics.count_words(data['Summary'])\n",
    "data"
   ]
  },
  {
   "cell_type": "markdown",
   "metadata": {},
   "source": [
    "### 3. Используя graphlab.SFrame.stack сформировать новую таблицу words_count со столбцами  ['word','count'] на основе столбца word_count из пункта 2."
   ]
  },
  {
   "cell_type": "code",
   "execution_count": 17,
   "metadata": {},
   "outputs": [
    {
     "data": {
      "text/html": [
       "<div style=\"max-height:1000px;max-width:1500px;overflow:auto;\"><table frame=\"box\" rules=\"cols\">\n",
       "    <tr>\n",
       "        <th style=\"padding-left: 1em; padding-right: 1em; text-align: center\">word</th>\n",
       "        <th style=\"padding-left: 1em; padding-right: 1em; text-align: center\">count</th>\n",
       "    </tr>\n",
       "    <tr>\n",
       "        <td style=\"padding-left: 1em; padding-right: 1em; text-align: center; vertical-align: top\">the</td>\n",
       "        <td style=\"padding-left: 1em; padding-right: 1em; text-align: center; vertical-align: top\">1</td>\n",
       "    </tr>\n",
       "    <tr>\n",
       "        <td style=\"padding-left: 1em; padding-right: 1em; text-align: center; vertical-align: top\">to</td>\n",
       "        <td style=\"padding-left: 1em; padding-right: 1em; text-align: center; vertical-align: top\">1</td>\n",
       "    </tr>\n",
       "    <tr>\n",
       "        <td style=\"padding-left: 1em; padding-right: 1em; text-align: center; vertical-align: top\">responded</td>\n",
       "        <td style=\"padding-left: 1em; padding-right: 1em; text-align: center; vertical-align: top\">1</td>\n",
       "    </tr>\n",
       "    <tr>\n",
       "        <td style=\"padding-left: 1em; padding-right: 1em; text-align: center; vertical-align: top\">officers</td>\n",
       "        <td style=\"padding-left: 1em; padding-right: 1em; text-align: center; vertical-align: top\">1</td>\n",
       "    </tr>\n",
       "    <tr>\n",
       "        <td style=\"padding-left: 1em; padding-right: 1em; text-align: center; vertical-align: top\">enforcement</td>\n",
       "        <td style=\"padding-left: 1em; padding-right: 1em; text-align: center; vertical-align: top\">1</td>\n",
       "    </tr>\n",
       "    <tr>\n",
       "        <td style=\"padding-left: 1em; padding-right: 1em; text-align: center; vertical-align: top\">two</td>\n",
       "        <td style=\"padding-left: 1em; padding-right: 1em; text-align: center; vertical-align: top\">1</td>\n",
       "    </tr>\n",
       "    <tr>\n",
       "        <td style=\"padding-left: 1em; padding-right: 1em; text-align: center; vertical-align: top\">wounded</td>\n",
       "        <td style=\"padding-left: 1em; padding-right: 1em; text-align: center; vertical-align: top\">1</td>\n",
       "    </tr>\n",
       "    <tr>\n",
       "        <td style=\"padding-left: 1em; padding-right: 1em; text-align: center; vertical-align: top\">as</td>\n",
       "        <td style=\"padding-left: 1em; padding-right: 1em; text-align: center; vertical-align: top\">1</td>\n",
       "    </tr>\n",
       "    <tr>\n",
       "        <td style=\"padding-left: 1em; padding-right: 1em; text-align: center; vertical-align: top\">shot</td>\n",
       "        <td style=\"padding-left: 1em; padding-right: 1em; text-align: center; vertical-align: top\">1</td>\n",
       "    </tr>\n",
       "    <tr>\n",
       "        <td style=\"padding-left: 1em; padding-right: 1em; text-align: center; vertical-align: top\">francisco.</td>\n",
       "        <td style=\"padding-left: 1em; padding-right: 1em; text-align: center; vertical-align: top\">1</td>\n",
       "    </tr>\n",
       "</table>\n",
       "[14221 rows x 2 columns]<br/>Note: Only the head of the SFrame is printed.<br/>You can use print_rows(num_rows=m, num_columns=n) to print more rows and columns.\n",
       "</div>"
      ],
      "text/plain": [
       "Columns:\n",
       "\tword\tstr\n",
       "\tcount\tint\n",
       "\n",
       "Rows: 14221\n",
       "\n",
       "Data:\n",
       "+-------------+-------+\n",
       "|     word    | count |\n",
       "+-------------+-------+\n",
       "|     the     |   1   |\n",
       "|      to     |   1   |\n",
       "|  responded  |   1   |\n",
       "|   officers  |   1   |\n",
       "| enforcement |   1   |\n",
       "|     two     |   1   |\n",
       "|   wounded   |   1   |\n",
       "|      as     |   1   |\n",
       "|     shot    |   1   |\n",
       "|  francisco. |   1   |\n",
       "+-------------+-------+\n",
       "[14221 rows x 2 columns]\n",
       "Note: Only the head of the SFrame is printed.\n",
       "You can use print_rows(num_rows=m, num_columns=n) to print more rows and columns."
      ]
     },
     "execution_count": 17,
     "metadata": {},
     "output_type": "execute_result"
    }
   ],
   "source": [
    "words_count = graphlab.SFrame()\n",
    "words_count = data.stack('word_count', new_column_name=['word', 'count'])['word', 'count']\n",
    "words_count"
   ]
  },
  {
   "cell_type": "markdown",
   "metadata": {},
   "source": [
    "### 4. Объединить данные таблицы words_count по столбцу word."
   ]
  },
  {
   "cell_type": "code",
   "execution_count": 18,
   "metadata": {
    "collapsed": true
   },
   "outputs": [],
   "source": [
    "words_count = words_count.groupby(key_columns='word', operations={'count': graphlab.aggregate.COUNT()})"
   ]
  },
  {
   "cell_type": "markdown",
   "metadata": {},
   "source": [
    "### 5. Отсортировать их по убыванию количества слов."
   ]
  },
  {
   "cell_type": "code",
   "execution_count": 19,
   "metadata": {},
   "outputs": [
    {
     "data": {
      "text/html": [
       "<div style=\"max-height:1000px;max-width:1500px;overflow:auto;\"><table frame=\"box\" rules=\"cols\">\n",
       "    <tr>\n",
       "        <th style=\"padding-left: 1em; padding-right: 1em; text-align: center\">word</th>\n",
       "        <th style=\"padding-left: 1em; padding-right: 1em; text-align: center\">count</th>\n",
       "    </tr>\n",
       "    <tr>\n",
       "        <td style=\"padding-left: 1em; padding-right: 1em; text-align: center; vertical-align: top\">a</td>\n",
       "        <td style=\"padding-left: 1em; padding-right: 1em; text-align: center; vertical-align: top\">347</td>\n",
       "    </tr>\n",
       "    <tr>\n",
       "        <td style=\"padding-left: 1em; padding-right: 1em; text-align: center; vertical-align: top\">and</td>\n",
       "        <td style=\"padding-left: 1em; padding-right: 1em; text-align: center; vertical-align: top\">326</td>\n",
       "    </tr>\n",
       "    <tr>\n",
       "        <td style=\"padding-left: 1em; padding-right: 1em; text-align: center; vertical-align: top\">the</td>\n",
       "        <td style=\"padding-left: 1em; padding-right: 1em; text-align: center; vertical-align: top\">317</td>\n",
       "    </tr>\n",
       "    <tr>\n",
       "        <td style=\"padding-left: 1em; padding-right: 1em; text-align: center; vertical-align: top\">in</td>\n",
       "        <td style=\"padding-left: 1em; padding-right: 1em; text-align: center; vertical-align: top\">272</td>\n",
       "    </tr>\n",
       "    <tr>\n",
       "        <td style=\"padding-left: 1em; padding-right: 1em; text-align: center; vertical-align: top\">on</td>\n",
       "        <td style=\"padding-left: 1em; padding-right: 1em; text-align: center; vertical-align: top\">270</td>\n",
       "    </tr>\n",
       "    <tr>\n",
       "        <td style=\"padding-left: 1em; padding-right: 1em; text-align: center; vertical-align: top\">at</td>\n",
       "        <td style=\"padding-left: 1em; padding-right: 1em; text-align: center; vertical-align: top\">217</td>\n",
       "    </tr>\n",
       "    <tr>\n",
       "        <td style=\"padding-left: 1em; padding-right: 1em; text-align: center; vertical-align: top\">he</td>\n",
       "        <td style=\"padding-left: 1em; padding-right: 1em; text-align: center; vertical-align: top\">199</td>\n",
       "    </tr>\n",
       "    <tr>\n",
       "        <td style=\"padding-left: 1em; padding-right: 1em; text-align: center; vertical-align: top\">his</td>\n",
       "        <td style=\"padding-left: 1em; padding-right: 1em; text-align: center; vertical-align: top\">178</td>\n",
       "    </tr>\n",
       "    <tr>\n",
       "        <td style=\"padding-left: 1em; padding-right: 1em; text-align: center; vertical-align: top\">before</td>\n",
       "        <td style=\"padding-left: 1em; padding-right: 1em; text-align: center; vertical-align: top\">178</td>\n",
       "    </tr>\n",
       "    <tr>\n",
       "        <td style=\"padding-left: 1em; padding-right: 1em; text-align: center; vertical-align: top\">of</td>\n",
       "        <td style=\"padding-left: 1em; padding-right: 1em; text-align: center; vertical-align: top\">178</td>\n",
       "    </tr>\n",
       "</table>\n",
       "[3238 rows x 2 columns]<br/>Note: Only the head of the SFrame is printed.<br/>You can use print_rows(num_rows=m, num_columns=n) to print more rows and columns.\n",
       "</div>"
      ],
      "text/plain": [
       "Columns:\n",
       "\tword\tstr\n",
       "\tcount\tint\n",
       "\n",
       "Rows: 3238\n",
       "\n",
       "Data:\n",
       "+--------+-------+\n",
       "|  word  | count |\n",
       "+--------+-------+\n",
       "|   a    |  347  |\n",
       "|  and   |  326  |\n",
       "|  the   |  317  |\n",
       "|   in   |  272  |\n",
       "|   on   |  270  |\n",
       "|   at   |  217  |\n",
       "|   he   |  199  |\n",
       "|  his   |  178  |\n",
       "| before |  178  |\n",
       "|   of   |  178  |\n",
       "+--------+-------+\n",
       "[3238 rows x 2 columns]\n",
       "Note: Only the head of the SFrame is printed.\n",
       "You can use print_rows(num_rows=m, num_columns=n) to print more rows and columns."
      ]
     },
     "execution_count": 19,
     "metadata": {},
     "output_type": "execute_result"
    }
   ],
   "source": [
    "words_count.sort('count',ascending=False)"
   ]
  },
  {
   "cell_type": "markdown",
   "metadata": {},
   "source": [
    "### 6. Подсчитать TF-IDF столбца Summary для всех записей таблицы data и записать данные в новый столбец tfidf."
   ]
  },
  {
   "cell_type": "code",
   "execution_count": 22,
   "metadata": {},
   "outputs": [
    {
     "data": {
      "text/html": [
       "<div style=\"max-height:1000px;max-width:1500px;overflow:auto;\"><table frame=\"box\" rules=\"cols\">\n",
       "    <tr>\n",
       "        <th style=\"padding-left: 1em; padding-right: 1em; text-align: center\">Title</th>\n",
       "        <th style=\"padding-left: 1em; padding-right: 1em; text-align: center\">Summary</th>\n",
       "        <th style=\"padding-left: 1em; padding-right: 1em; text-align: center\">word_count</th>\n",
       "        <th style=\"padding-left: 1em; padding-right: 1em; text-align: center\">tf-idf</th>\n",
       "    </tr>\n",
       "    <tr>\n",
       "        <td style=\"padding-left: 1em; padding-right: 1em; text-align: center; vertical-align: top\">San Francisco UPS<br>shooting ...</td>\n",
       "        <td style=\"padding-left: 1em; padding-right: 1em; text-align: center; vertical-align: top\">Jimmy Lam, 38, fatally<br>shot three coworkers and ...</td>\n",
       "        <td style=\"padding-left: 1em; padding-right: 1em; text-align: center; vertical-align: top\">{'and': 1L, 'jimmy': 1L,<br>'shot': 1L, 'san': 1L, ...</td>\n",
       "        <td style=\"padding-left: 1em; padding-right: 1em; text-align: center; vertical-align: top\">{'and':<br>0.1894535279312261, ...</td>\n",
       "    </tr>\n",
       "    <tr>\n",
       "        <td style=\"padding-left: 1em; padding-right: 1em; text-align: center; vertical-align: top\">Pennsylvania supermarket<br>shooting ...</td>\n",
       "        <td style=\"padding-left: 1em; padding-right: 1em; text-align: center; vertical-align: top\">Randy Stair, a 24-year-<br>old worker at Weis ...</td>\n",
       "        <td style=\"padding-left: 1em; padding-right: 1em; text-align: center; vertical-align: top\">{'and': 1L, 'his': 1L,<br>'stair,': 1L, 'shot': ...</td>\n",
       "        <td style=\"padding-left: 1em; padding-right: 1em; text-align: center; vertical-align: top\">{'and':<br>0.1894535279312261, ...</td>\n",
       "    </tr>\n",
       "    <tr>\n",
       "        <td style=\"padding-left: 1em; padding-right: 1em; text-align: center; vertical-align: top\">Florida awning<br>manufacturer shooting ...</td>\n",
       "        <td style=\"padding-left: 1em; padding-right: 1em; text-align: center; vertical-align: top\">John Robert Neumann, Jr.,<br>45, a former employee of ...</td>\n",
       "        <td style=\"padding-left: 1em; padding-right: 1em; text-align: center; vertical-align: top\">{'and': 1L, 'one-year':<br>1L, 'company,': 1L, ...</td>\n",
       "        <td style=\"padding-left: 1em; padding-right: 1em; text-align: center; vertical-align: top\">{'and':<br>0.1894535279312261, ' ...</td>\n",
       "    </tr>\n",
       "    <tr>\n",
       "        <td style=\"padding-left: 1em; padding-right: 1em; text-align: center; vertical-align: top\">Rural Ohio nursing home<br>shooting ...</td>\n",
       "        <td style=\"padding-left: 1em; padding-right: 1em; text-align: center; vertical-align: top\">Thomas Hartless, 43, shot<br>and killed a former ...</td>\n",
       "        <td style=\"padding-left: 1em; padding-right: 1em; text-align: center; vertical-align: top\">{'and': 3L, 'thomas': 1L,<br>'shot': 2L, 'nursing': ...</td>\n",
       "        <td style=\"padding-left: 1em; padding-right: 1em; text-align: center; vertical-align: top\">{'and':<br>0.5683605837936783, ...</td>\n",
       "    </tr>\n",
       "    <tr>\n",
       "        <td style=\"padding-left: 1em; padding-right: 1em; text-align: center; vertical-align: top\">Fresno downtown shooting</td>\n",
       "        <td style=\"padding-left: 1em; padding-right: 1em; text-align: center; vertical-align: top\">Kori Ali Muhammad, 39,<br>opened fire along a ...</td>\n",
       "        <td style=\"padding-left: 1em; padding-right: 1em; text-align: center; vertical-align: top\">{'and': 1L, 'his': 1L,<br>'muhammad,': 2L, 'lin ...</td>\n",
       "        <td style=\"padding-left: 1em; padding-right: 1em; text-align: center; vertical-align: top\">{'and':<br>0.1894535279312261, ...</td>\n",
       "    </tr>\n",
       "    <tr>\n",
       "        <td style=\"padding-left: 1em; padding-right: 1em; text-align: center; vertical-align: top\">Fort Lauderdale airport<br>shooting ...</td>\n",
       "        <td style=\"padding-left: 1em; padding-right: 1em; text-align: center; vertical-align: top\">Esteban Santiago, 26,<br>flew from Alaska to Fort ...</td>\n",
       "        <td style=\"padding-left: 1em; padding-right: 1em; text-align: center; vertical-align: top\">{'and': 1L, 'claim': 1L,<br>'aprehended': 1L, 'in': ...</td>\n",
       "        <td style=\"padding-left: 1em; padding-right: 1em; text-align: center; vertical-align: top\">{'and':<br>0.1894535279312261, ...</td>\n",
       "    </tr>\n",
       "    <tr>\n",
       "        <td style=\"padding-left: 1em; padding-right: 1em; text-align: center; vertical-align: top\">Cascade Mall shooting</td>\n",
       "        <td style=\"padding-left: 1em; padding-right: 1em; text-align: center; vertical-align: top\">Arcan Cetin, 20, killed a<br>teen girl and three w ...</td>\n",
       "        <td style=\"padding-left: 1em; padding-right: 1em; text-align: center; vertical-align: top\">{'and': 2L, 'residence.':<br>1L, 'while': 1L, 'by': ...</td>\n",
       "        <td style=\"padding-left: 1em; padding-right: 1em; text-align: center; vertical-align: top\">{'and':<br>0.3789070558624522, ...</td>\n",
       "    </tr>\n",
       "    <tr>\n",
       "        <td style=\"padding-left: 1em; padding-right: 1em; text-align: center; vertical-align: top\">Baton Rouge police<br>shooting ...</td>\n",
       "        <td style=\"padding-left: 1em; padding-right: 1em; text-align: center; vertical-align: top\">Gavin Long, a former<br>Marine who served in ...</td>\n",
       "        <td style=\"padding-left: 1em; padding-right: 1em; text-align: center; vertical-align: top\">{'and': 1L, 'shoot-out':<br>1L, 'gavin': 1L, ...</td>\n",
       "        <td style=\"padding-left: 1em; padding-right: 1em; text-align: center; vertical-align: top\">{'and':<br>0.1894535279312261, ...</td>\n",
       "    </tr>\n",
       "    <tr>\n",
       "        <td style=\"padding-left: 1em; padding-right: 1em; text-align: center; vertical-align: top\">Dallas police shooting</td>\n",
       "        <td style=\"padding-left: 1em; padding-right: 1em; text-align: center; vertical-align: top\">Micah Xavier Johnson, a<br>25-year-old Army vete ...</td>\n",
       "        <td style=\"padding-left: 1em; padding-right: 1em; text-align: center; vertical-align: top\">{'and': 1L, 'lives': 1L,<br>'officers': 1L, 'as': ...</td>\n",
       "        <td style=\"padding-left: 1em; padding-right: 1em; text-align: center; vertical-align: top\">{'and':<br>0.1894535279312261, ...</td>\n",
       "    </tr>\n",
       "    <tr>\n",
       "        <td style=\"padding-left: 1em; padding-right: 1em; text-align: center; vertical-align: top\">Orlando nightclub<br>massacre ...</td>\n",
       "        <td style=\"padding-left: 1em; padding-right: 1em; text-align: center; vertical-align: top\">Omar Mateen, 29, attacked<br>the Pulse nighclub in ...</td>\n",
       "        <td style=\"padding-left: 1em; padding-right: 1em; text-align: center; vertical-align: top\">{'standoff.': 1L,<br>'pulse': 1L, 'in': 2L, ...</td>\n",
       "        <td style=\"padding-left: 1em; padding-right: 1em; text-align: center; vertical-align: top\">{'standoff.':<br>4.877738620629824, ...</td>\n",
       "    </tr>\n",
       "</table>\n",
       "[394 rows x 4 columns]<br/>Note: Only the head of the SFrame is printed.<br/>You can use print_rows(num_rows=m, num_columns=n) to print more rows and columns.\n",
       "</div>"
      ],
      "text/plain": [
       "Columns:\n",
       "\tTitle\tstr\n",
       "\tSummary\tstr\n",
       "\tword_count\tdict\n",
       "\ttf-idf\tdict\n",
       "\n",
       "Rows: 394\n",
       "\n",
       "Data:\n",
       "+-------------------------------+-------------------------------+\n",
       "|             Title             |            Summary            |\n",
       "+-------------------------------+-------------------------------+\n",
       "|   San Francisco UPS shooting  | Jimmy Lam, 38, fatally sho... |\n",
       "| Pennsylvania supermarket s... | Randy Stair, a 24-year-old... |\n",
       "| Florida awning manufacture... | John Robert Neumann, Jr., ... |\n",
       "| Rural Ohio nursing home sh... | Thomas Hartless, 43, shot ... |\n",
       "|    Fresno downtown shooting   | Kori Ali Muhammad, 39, ope... |\n",
       "| Fort Lauderdale airport sh... | Esteban Santiago, 26, flew... |\n",
       "|     Cascade Mall shooting     | Arcan Cetin, 20, killed a ... |\n",
       "|  Baton Rouge police shooting  | Gavin Long, a former Marin... |\n",
       "|     Dallas police shooting    | Micah Xavier Johnson, a 25... |\n",
       "|   Orlando nightclub massacre  | Omar Mateen, 29, attacked ... |\n",
       "+-------------------------------+-------------------------------+\n",
       "+-------------------------------+-------------------------------+\n",
       "|           word_count          |             tf-idf            |\n",
       "+-------------------------------+-------------------------------+\n",
       "| {'and': 1L, 'jimmy': 1L, '... | {'and': 0.1894535279312261... |\n",
       "| {'and': 1L, 'his': 1L, 'st... | {'and': 0.1894535279312261... |\n",
       "| {'and': 1L, 'one-year': 1L... | {'and': 0.1894535279312261... |\n",
       "| {'and': 3L, 'thomas': 1L, ... | {'and': 0.5683605837936783... |\n",
       "| {'and': 1L, 'his': 1L, 'mu... | {'and': 0.1894535279312261... |\n",
       "| {'and': 1L, 'claim': 1L, '... | {'and': 0.1894535279312261... |\n",
       "| {'and': 2L, 'residence.': ... | {'and': 0.3789070558624522... |\n",
       "| {'and': 1L, 'shoot-out': 1... | {'and': 0.1894535279312261... |\n",
       "| {'and': 1L, 'lives': 1L, '... | {'and': 0.1894535279312261... |\n",
       "| {'standoff.': 1L, 'pulse':... | {'standoff.': 4.8777386206... |\n",
       "+-------------------------------+-------------------------------+\n",
       "[394 rows x 4 columns]\n",
       "Note: Only the head of the SFrame is printed.\n",
       "You can use print_rows(num_rows=m, num_columns=n) to print more rows and columns."
      ]
     },
     "execution_count": 22,
     "metadata": {},
     "output_type": "execute_result"
    }
   ],
   "source": [
    "data['tf-idf'] = graphlab.text_analytics.tf_idf(data['Summary'])\n",
    "data"
   ]
  },
  {
   "cell_type": "markdown",
   "metadata": {},
   "source": [
    "### 7. Используя graphlab.SFrame.stack сформировать новую таблицу tf_idf со столбцами  ['word','tfidf'] на основе столбца tfidf из пункта 6."
   ]
  },
  {
   "cell_type": "code",
   "execution_count": 23,
   "metadata": {},
   "outputs": [
    {
     "data": {
      "text/html": [
       "<div style=\"max-height:1000px;max-width:1500px;overflow:auto;\"><table frame=\"box\" rules=\"cols\">\n",
       "    <tr>\n",
       "        <th style=\"padding-left: 1em; padding-right: 1em; text-align: center\">word</th>\n",
       "        <th style=\"padding-left: 1em; padding-right: 1em; text-align: center\">tfidf</th>\n",
       "    </tr>\n",
       "    <tr>\n",
       "        <td style=\"padding-left: 1em; padding-right: 1em; text-align: center; vertical-align: top\">the</td>\n",
       "        <td style=\"padding-left: 1em; padding-right: 1em; text-align: center; vertical-align: top\">0.217449135421</td>\n",
       "    </tr>\n",
       "    <tr>\n",
       "        <td style=\"padding-left: 1em; padding-right: 1em; text-align: center; vertical-align: top\">to</td>\n",
       "        <td style=\"padding-left: 1em; padding-right: 1em; text-align: center; vertical-align: top\">0.92010510395</td>\n",
       "    </tr>\n",
       "    <tr>\n",
       "        <td style=\"padding-left: 1em; padding-right: 1em; text-align: center; vertical-align: top\">responded</td>\n",
       "        <td style=\"padding-left: 1em; padding-right: 1em; text-align: center; vertical-align: top\">5.28320372874</td>\n",
       "    </tr>\n",
       "    <tr>\n",
       "        <td style=\"padding-left: 1em; padding-right: 1em; text-align: center; vertical-align: top\">officers</td>\n",
       "        <td style=\"padding-left: 1em; padding-right: 1em; text-align: center; vertical-align: top\">3.14313756524</td>\n",
       "    </tr>\n",
       "    <tr>\n",
       "        <td style=\"padding-left: 1em; padding-right: 1em; text-align: center; vertical-align: top\">enforcement</td>\n",
       "        <td style=\"padding-left: 1em; padding-right: 1em; text-align: center; vertical-align: top\">3.89690936762</td>\n",
       "    </tr>\n",
       "    <tr>\n",
       "        <td style=\"padding-left: 1em; padding-right: 1em; text-align: center; vertical-align: top\">two</td>\n",
       "        <td style=\"padding-left: 1em; padding-right: 1em; text-align: center; vertical-align: top\">1.03470848669</td>\n",
       "    </tr>\n",
       "    <tr>\n",
       "        <td style=\"padding-left: 1em; padding-right: 1em; text-align: center; vertical-align: top\">wounded</td>\n",
       "        <td style=\"padding-left: 1em; padding-right: 1em; text-align: center; vertical-align: top\">1.72785566725</td>\n",
       "    </tr>\n",
       "    <tr>\n",
       "        <td style=\"padding-left: 1em; padding-right: 1em; text-align: center; vertical-align: top\">as</td>\n",
       "        <td style=\"padding-left: 1em; padding-right: 1em; text-align: center; vertical-align: top\">2.54236370481</td>\n",
       "    </tr>\n",
       "    <tr>\n",
       "        <td style=\"padding-left: 1em; padding-right: 1em; text-align: center; vertical-align: top\">shot</td>\n",
       "        <td style=\"padding-left: 1em; padding-right: 1em; text-align: center; vertical-align: top\">0.965715615202</td>\n",
       "    </tr>\n",
       "    <tr>\n",
       "        <td style=\"padding-left: 1em; padding-right: 1em; text-align: center; vertical-align: top\">francisco.</td>\n",
       "        <td style=\"padding-left: 1em; padding-right: 1em; text-align: center; vertical-align: top\">5.9763509093</td>\n",
       "    </tr>\n",
       "</table>\n",
       "[14221 rows x 2 columns]<br/>Note: Only the head of the SFrame is printed.<br/>You can use print_rows(num_rows=m, num_columns=n) to print more rows and columns.\n",
       "</div>"
      ],
      "text/plain": [
       "Columns:\n",
       "\tword\tstr\n",
       "\ttfidf\tfloat\n",
       "\n",
       "Rows: 14221\n",
       "\n",
       "Data:\n",
       "+-------------+----------------+\n",
       "|     word    |     tfidf      |\n",
       "+-------------+----------------+\n",
       "|     the     | 0.217449135421 |\n",
       "|      to     | 0.92010510395  |\n",
       "|  responded  | 5.28320372874  |\n",
       "|   officers  | 3.14313756524  |\n",
       "| enforcement | 3.89690936762  |\n",
       "|     two     | 1.03470848669  |\n",
       "|   wounded   | 1.72785566725  |\n",
       "|      as     | 2.54236370481  |\n",
       "|     shot    | 0.965715615202 |\n",
       "|  francisco. |  5.9763509093  |\n",
       "+-------------+----------------+\n",
       "[14221 rows x 2 columns]\n",
       "Note: Only the head of the SFrame is printed.\n",
       "You can use print_rows(num_rows=m, num_columns=n) to print more rows and columns."
      ]
     },
     "execution_count": 23,
     "metadata": {},
     "output_type": "execute_result"
    }
   ],
   "source": [
    "tf_idf = graphlab.SFrame()\n",
    "tf_idf = data.stack('tf-idf', ['word', 'tfidf'])['word', 'tfidf']\n",
    "tf_idf"
   ]
  },
  {
   "cell_type": "markdown",
   "metadata": {},
   "source": [
    "### 8. Отсортировать их по убыванию значения TF-IDF."
   ]
  },
  {
   "cell_type": "code",
   "execution_count": 24,
   "metadata": {},
   "outputs": [
    {
     "data": {
      "text/html": [
       "<div style=\"max-height:1000px;max-width:1500px;overflow:auto;\"><table frame=\"box\" rules=\"cols\">\n",
       "    <tr>\n",
       "        <th style=\"padding-left: 1em; padding-right: 1em; text-align: center\">word</th>\n",
       "        <th style=\"padding-left: 1em; padding-right: 1em; text-align: center\">tfidf</th>\n",
       "    </tr>\n",
       "    <tr>\n",
       "        <td style=\"padding-left: 1em; padding-right: 1em; text-align: center; vertical-align: top\">trooper</td>\n",
       "        <td style=\"padding-left: 1em; padding-right: 1em; text-align: center; vertical-align: top\">23.9054036372</td>\n",
       "    </tr>\n",
       "    <tr>\n",
       "        <td style=\"padding-left: 1em; padding-right: 1em; text-align: center; vertical-align: top\">protesters</td>\n",
       "        <td style=\"padding-left: 1em; padding-right: 1em; text-align: center; vertical-align: top\">17.9290527279</td>\n",
       "    </tr>\n",
       "    <tr>\n",
       "        <td style=\"padding-left: 1em; padding-right: 1em; text-align: center; vertical-align: top\">players</td>\n",
       "        <td style=\"padding-left: 1em; padding-right: 1em; text-align: center; vertical-align: top\">17.9290527279</td>\n",
       "    </tr>\n",
       "    <tr>\n",
       "        <td style=\"padding-left: 1em; padding-right: 1em; text-align: center; vertical-align: top\">session</td>\n",
       "        <td style=\"padding-left: 1em; padding-right: 1em; text-align: center; vertical-align: top\">17.9290527279</td>\n",
       "    </tr>\n",
       "    <tr>\n",
       "        <td style=\"padding-left: 1em; padding-right: 1em; text-align: center; vertical-align: top\">ex-wife's</td>\n",
       "        <td style=\"padding-left: 1em; padding-right: 1em; text-align: center; vertical-align: top\">15.8496111862</td>\n",
       "    </tr>\n",
       "    <tr>\n",
       "        <td style=\"padding-left: 1em; padding-right: 1em; text-align: center; vertical-align: top\">isla</td>\n",
       "        <td style=\"padding-left: 1em; padding-right: 1em; text-align: center; vertical-align: top\">15.8496111862</td>\n",
       "    </tr>\n",
       "    <tr>\n",
       "        <td style=\"padding-left: 1em; padding-right: 1em; text-align: center; vertical-align: top\">whom</td>\n",
       "        <td style=\"padding-left: 1em; padding-right: 1em; text-align: center; vertical-align: top\">15.8496111862</td>\n",
       "    </tr>\n",
       "    <tr>\n",
       "        <td style=\"padding-left: 1em; padding-right: 1em; text-align: center; vertical-align: top\">she</td>\n",
       "        <td style=\"padding-left: 1em; padding-right: 1em; text-align: center; vertical-align: top\">15.5876374705</td>\n",
       "    </tr>\n",
       "    <tr>\n",
       "        <td style=\"padding-left: 1em; padding-right: 1em; text-align: center; vertical-align: top\">bus</td>\n",
       "        <td style=\"padding-left: 1em; padding-right: 1em; text-align: center; vertical-align: top\">13.7701696445</td>\n",
       "    </tr>\n",
       "    <tr>\n",
       "        <td style=\"padding-left: 1em; padding-right: 1em; text-align: center; vertical-align: top\">station</td>\n",
       "        <td style=\"padding-left: 1em; padding-right: 1em; text-align: center; vertical-align: top\">13.7701696445</td>\n",
       "    </tr>\n",
       "</table>\n",
       "[14221 rows x 2 columns]<br/>Note: Only the head of the SFrame is printed.<br/>You can use print_rows(num_rows=m, num_columns=n) to print more rows and columns.\n",
       "</div>"
      ],
      "text/plain": [
       "Columns:\n",
       "\tword\tstr\n",
       "\ttfidf\tfloat\n",
       "\n",
       "Rows: 14221\n",
       "\n",
       "Data:\n",
       "+------------+---------------+\n",
       "|    word    |     tfidf     |\n",
       "+------------+---------------+\n",
       "|  trooper   | 23.9054036372 |\n",
       "| protesters | 17.9290527279 |\n",
       "|  players   | 17.9290527279 |\n",
       "|  session   | 17.9290527279 |\n",
       "| ex-wife's  | 15.8496111862 |\n",
       "|    isla    | 15.8496111862 |\n",
       "|    whom    | 15.8496111862 |\n",
       "|    she     | 15.5876374705 |\n",
       "|    bus     | 13.7701696445 |\n",
       "|  station   | 13.7701696445 |\n",
       "+------------+---------------+\n",
       "[14221 rows x 2 columns]\n",
       "Note: Only the head of the SFrame is printed.\n",
       "You can use print_rows(num_rows=m, num_columns=n) to print more rows and columns."
      ]
     },
     "execution_count": 24,
     "metadata": {},
     "output_type": "execute_result"
    }
   ],
   "source": [
    "tf_idf.sort('tfidf',ascending=False)"
   ]
  },
  {
   "cell_type": "markdown",
   "metadata": {},
   "source": [
    "### 9. Выбрать 3 записи из таблицы data (вывести данные) и с помощью функции graphlab.toolkits.distances.cosine подсчитать между ними (попарно) расстояние на основе:\n",
    "#### a) word_count\n",
    "#### b) tfidf\n",
    "#### Сравнить полученные результаты (используя форматированный вывод):\n",
    "\n",
    "#### Например:\n",
    "\n",
    "#### Для пары %title_1% и %title_2% расстояние по\n",
    "\n",
    "#### word_count - %значение_1%\n",
    "#### TF-IDF - %значение_2%\n",
    "#### %word_count или TF-IDF% показал большую схожесть.\n",
    "#### %word_count или TF-IDF% показал лучший результат.\n",
    "\n",
    "#### Лучший результат сравнения записей определить на основе личного анализа данных по: совпадению локации и описания преступления, данных о пострадавших и самом преступнике.\n",
    "\n"
   ]
  },
  {
   "cell_type": "markdown",
   "metadata": {},
   "source": [
    "#### Выбор 3-х случайных записей с помощью функции случайных чисел"
   ]
  },
  {
   "cell_type": "code",
   "execution_count": 25,
   "metadata": {
    "collapsed": true
   },
   "outputs": [],
   "source": [
    "import numpy as np"
   ]
  },
  {
   "cell_type": "code",
   "execution_count": 27,
   "metadata": {},
   "outputs": [
    {
     "data": {
      "text/plain": [
       "(118, 65, 25)"
      ]
     },
     "execution_count": 27,
     "metadata": {},
     "output_type": "execute_result"
    }
   ],
   "source": [
    "first = np.random.randint(0, len(data))\n",
    "second = np.random.randint(0, len(data))\n",
    "third = np.random.randint(0, len(data))\n",
    "first, second, third"
   ]
  },
  {
   "cell_type": "code",
   "execution_count": 29,
   "metadata": {
    "scrolled": true
   },
   "outputs": [
    {
     "data": {
      "text/plain": [
       "\"On May 31, 2015, the shooter entered the business just before 5 pm and open fire. He appeared to randomly shoot at anyone in his path but turns and leaves the building when an armed citizen off-camera returns fire. After the shooter left the liquor store, he  returned to his parents' home and shot and wounded them both. \""
      ]
     },
     "execution_count": 29,
     "metadata": {},
     "output_type": "execute_result"
    }
   ],
   "source": [
    "first = data[first]\n",
    "first['Summary']"
   ]
  },
  {
   "cell_type": "code",
   "execution_count": 30,
   "metadata": {},
   "outputs": [
    {
     "data": {
      "text/plain": [
       "'Two people were killed and several others were hurt in a mass shooting inside an Orlando nightclub early Sunday morning.'"
      ]
     },
     "execution_count": 30,
     "metadata": {},
     "output_type": "execute_result"
    }
   ],
   "source": [
    "second = data[second]\n",
    "second['Summary']"
   ]
  },
  {
   "cell_type": "code",
   "execution_count": 31,
   "metadata": {},
   "outputs": [
    {
     "data": {
      "text/plain": [
       "'Husband murders his wife and injures his two sons at their home in rural Alabama, then commits suicide'"
      ]
     },
     "execution_count": 31,
     "metadata": {},
     "output_type": "execute_result"
    }
   ],
   "source": [
    "third = data[third]\n",
    "third['Summary']"
   ]
  },
  {
   "cell_type": "markdown",
   "metadata": {},
   "source": [
    "#### Первая пара: первый и второй отзыв"
   ]
  },
  {
   "cell_type": "code",
   "execution_count": 49,
   "metadata": {},
   "outputs": [
    {
     "name": "stdout",
     "output_type": "stream",
     "text": [
      "Для пары \"Conyers\" и \"Orlando, Florida\" расстояние по: \n",
      "a) word_count = 0.872079570187\n",
      "b) tf-idf = 0.992470721474\n",
      "TF-IDF показал большую схожесть.\n",
      "TF-IDF показал лучший результат.\n"
     ]
    }
   ],
   "source": [
    "first_wc = graphlab.distances.cosine(first['word_count'], second['word_count'])\n",
    "first_tf =  graphlab.distances.cosine(first['tf-idf'], second['tf-idf'])\n",
    "\n",
    "print \"Для пары \\\"\" + first['Title'] + \"\\\" и \\\"\" + second['Title'] + \"\\\" расстояние по: \"\n",
    "print \"a) word_count =\",first_wc\n",
    "print \"b) tf-idf =\", first_tf\n",
    "print \"TF-IDF показал большую схожесть.\"\n",
    "print \"TF-IDF показал лучший результат.\""
   ]
  },
  {
   "cell_type": "markdown",
   "metadata": {},
   "source": [
    "#### Вторая пара: первый и третий отзыв"
   ]
  },
  {
   "cell_type": "code",
   "execution_count": 51,
   "metadata": {},
   "outputs": [
    {
     "name": "stdout",
     "output_type": "stream",
     "text": [
      "Для пары \"Conyers\" и \"Greenhill, AL Family murder-suicide\" расстояние по: \n",
      "a) word_count = 0.754032522475\n",
      "b) tf-idf = 0.978466616999\n",
      "TF-IDF показал большую схожесть.\n",
      "TF-IDF показал лучший результат.\n"
     ]
    }
   ],
   "source": [
    "second_wc = graphlab.distances.cosine(first['word_count'], third['word_count'])\n",
    "second_tf = graphlab.distances.cosine(first['tf-idf'], third['tf-idf'])\n",
    "\n",
    "print \"Для пары \\\"\" + first['Title'] + \"\\\" и \\\"\" + third['Title'] + \"\\\" расстояние по: \"\n",
    "print \"a) word_count =\",second_wc\n",
    "print \"b) tf-idf =\", second_tf\n",
    "print \"TF-IDF показал большую схожесть.\"\n",
    "print \"TF-IDF показал лучший результат.\""
   ]
  },
  {
   "cell_type": "markdown",
   "metadata": {},
   "source": [
    "#### Третья пара: второй и третий отзыв"
   ]
  },
  {
   "cell_type": "code",
   "execution_count": 52,
   "metadata": {},
   "outputs": [
    {
     "name": "stdout",
     "output_type": "stream",
     "text": [
      "Для пары \"Orlando, Florida\" и \"Greenhill, AL Family murder-suicide\" расстояние по: \n",
      "a) word_count = 0.856980611613\n",
      "b) tf-idf = 0.993668027485\n",
      "TF-IDF показал большую схожесть.\n",
      "word_count показал лучший результат.\n"
     ]
    }
   ],
   "source": [
    "third_wc = graphlab.distances.cosine(second['word_count'], third['word_count'])\n",
    "third_tf = graphlab.distances.cosine(second['tf-idf'], third['tf-idf'])\n",
    "\n",
    "print \"Для пары \\\"\" + second['Title'] + \"\\\" и \\\"\" + third['Title'] + \"\\\" расстояние по: \"\n",
    "print \"a) word_count =\",third_wc\n",
    "print \"b) tf-idf =\", third_tf\n",
    "print \"TF-IDF показал большую схожесть.\"\n",
    "print \"word_count показал лучший результат.\""
   ]
  }
 ],
 "metadata": {
  "kernelspec": {
   "display_name": "Python 2",
   "language": "python",
   "name": "python2"
  },
  "language_info": {
   "codemirror_mode": {
    "name": "ipython",
    "version": 2
   },
   "file_extension": ".py",
   "mimetype": "text/x-python",
   "name": "python",
   "nbconvert_exporter": "python",
   "pygments_lexer": "ipython2",
   "version": "2.7.14"
  }
 },
 "nbformat": 4,
 "nbformat_minor": 2
}
